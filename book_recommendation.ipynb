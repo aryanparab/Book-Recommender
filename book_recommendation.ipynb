{
  "nbformat": 4,
  "nbformat_minor": 0,
  "metadata": {
    "kernelspec": {
      "display_name": "Python 3",
      "language": "python",
      "name": "python3"
    },
    "language_info": {
      "codemirror_mode": {
        "name": "ipython",
        "version": 3
      },
      "file_extension": ".py",
      "mimetype": "text/x-python",
      "name": "python",
      "nbconvert_exporter": "python",
      "pygments_lexer": "ipython3",
      "version": "3.8.3"
    },
    "colab": {
      "name": "book recommendation.ipynb",
      "provenance": []
    },
    "accelerator": "TPU"
  },
  "cells": [
    {
      "cell_type": "code",
      "metadata": {
        "colab": {
          "base_uri": "https://localhost:8080/"
        },
        "id": "izsqbG6cGX9x",
        "outputId": "6b6f0fa3-3d13-4080-c3fd-714b160801e4"
      },
      "source": [
        "from google.colab import drive\n",
        "drive.mount('/content/drive')"
      ],
      "execution_count": 5,
      "outputs": [
        {
          "output_type": "stream",
          "text": [
            "Mounted at /content/drive\n"
          ],
          "name": "stdout"
        }
      ]
    },
    {
      "cell_type": "code",
      "metadata": {
        "id": "xkffTmYvGHNn"
      },
      "source": [
        "import pandas as pd\n",
        "import numpy as np\n",
        "import matplotlib.pyplot as plt"
      ],
      "execution_count": 1,
      "outputs": []
    },
    {
      "cell_type": "code",
      "metadata": {
        "id": "nHlbrreqGHN_"
      },
      "source": [
        "from sklearn.feature_extraction.text import TfidfVectorizer , CountVectorizer\n",
        "import nltk\n",
        "from nltk.stem import PorterStemmer , WordNetLemmatizer\n",
        "import re\n",
        "from nltk.corpus import wordnet,stopwords\n",
        "from sklearn.metrics.pairwise import sigmoid_kernel , cosine_similarity\n",
        "import string"
      ],
      "execution_count": 2,
      "outputs": []
    },
    {
      "cell_type": "code",
      "metadata": {
        "id": "2PndaBc_GHN2"
      },
      "source": [
        "df = pd.read_csv('/content/drive/MyDrive/datasets/book_data.csv')"
      ],
      "execution_count": 8,
      "outputs": []
    },
    {
      "cell_type": "code",
      "metadata": {
        "colab": {
          "base_uri": "https://localhost:8080/",
          "height": 564
        },
        "id": "k1juMkG7GHN3",
        "outputId": "f40dcc1d-0210-473c-d5fc-3f1e3bbf6653"
      },
      "source": [
        "df.head()"
      ],
      "execution_count": 9,
      "outputs": [
        {
          "output_type": "execute_result",
          "data": {
            "text/html": [
              "<div>\n",
              "<style scoped>\n",
              "    .dataframe tbody tr th:only-of-type {\n",
              "        vertical-align: middle;\n",
              "    }\n",
              "\n",
              "    .dataframe tbody tr th {\n",
              "        vertical-align: top;\n",
              "    }\n",
              "\n",
              "    .dataframe thead th {\n",
              "        text-align: right;\n",
              "    }\n",
              "</style>\n",
              "<table border=\"1\" class=\"dataframe\">\n",
              "  <thead>\n",
              "    <tr style=\"text-align: right;\">\n",
              "      <th></th>\n",
              "      <th>book_authors</th>\n",
              "      <th>book_desc</th>\n",
              "      <th>book_edition</th>\n",
              "      <th>book_format</th>\n",
              "      <th>book_isbn</th>\n",
              "      <th>book_pages</th>\n",
              "      <th>book_rating</th>\n",
              "      <th>book_rating_count</th>\n",
              "      <th>book_review_count</th>\n",
              "      <th>book_title</th>\n",
              "      <th>genres</th>\n",
              "      <th>image_url</th>\n",
              "    </tr>\n",
              "  </thead>\n",
              "  <tbody>\n",
              "    <tr>\n",
              "      <th>0</th>\n",
              "      <td>Suzanne Collins</td>\n",
              "      <td>Winning will make you famous. Losing means cer...</td>\n",
              "      <td>NaN</td>\n",
              "      <td>Hardcover</td>\n",
              "      <td>9.78044E+12</td>\n",
              "      <td>374 pages</td>\n",
              "      <td>4.33</td>\n",
              "      <td>5519135</td>\n",
              "      <td>160706</td>\n",
              "      <td>The Hunger Games</td>\n",
              "      <td>Young Adult|Fiction|Science Fiction|Dystopia|F...</td>\n",
              "      <td>https://images.gr-assets.com/books/1447303603l...</td>\n",
              "    </tr>\n",
              "    <tr>\n",
              "      <th>1</th>\n",
              "      <td>J.K. Rowling|Mary GrandPré</td>\n",
              "      <td>There is a door at the end of a silent corrido...</td>\n",
              "      <td>US Edition</td>\n",
              "      <td>Paperback</td>\n",
              "      <td>9.78044E+12</td>\n",
              "      <td>870 pages</td>\n",
              "      <td>4.48</td>\n",
              "      <td>2041594</td>\n",
              "      <td>33264</td>\n",
              "      <td>Harry Potter and the Order of the Phoenix</td>\n",
              "      <td>Fantasy|Young Adult|Fiction</td>\n",
              "      <td>https://images.gr-assets.com/books/1255614970l...</td>\n",
              "    </tr>\n",
              "    <tr>\n",
              "      <th>2</th>\n",
              "      <td>Harper Lee</td>\n",
              "      <td>The unforgettable novel of a childhood in a sl...</td>\n",
              "      <td>50th Anniversary</td>\n",
              "      <td>Paperback</td>\n",
              "      <td>9.78006E+12</td>\n",
              "      <td>324 pages</td>\n",
              "      <td>4.27</td>\n",
              "      <td>3745197</td>\n",
              "      <td>79450</td>\n",
              "      <td>To Kill a Mockingbird</td>\n",
              "      <td>Classics|Fiction|Historical|Historical Fiction...</td>\n",
              "      <td>https://images.gr-assets.com/books/1361975680l...</td>\n",
              "    </tr>\n",
              "    <tr>\n",
              "      <th>3</th>\n",
              "      <td>Jane Austen|Anna Quindlen|Mrs. Oliphant|George...</td>\n",
              "      <td>«È cosa ormai risaputa che a uno scapolo in po...</td>\n",
              "      <td>Modern Library Classics, USA / CAN</td>\n",
              "      <td>Paperback</td>\n",
              "      <td>9.78068E+12</td>\n",
              "      <td>279 pages</td>\n",
              "      <td>4.25</td>\n",
              "      <td>2453620</td>\n",
              "      <td>54322</td>\n",
              "      <td>Pride and Prejudice</td>\n",
              "      <td>Classics|Fiction|Romance</td>\n",
              "      <td>https://images.gr-assets.com/books/1320399351l...</td>\n",
              "    </tr>\n",
              "    <tr>\n",
              "      <th>4</th>\n",
              "      <td>Stephenie Meyer</td>\n",
              "      <td>About three things I was absolutely positive.F...</td>\n",
              "      <td>NaN</td>\n",
              "      <td>Paperback</td>\n",
              "      <td>9.78032E+12</td>\n",
              "      <td>498 pages</td>\n",
              "      <td>3.58</td>\n",
              "      <td>4281268</td>\n",
              "      <td>97991</td>\n",
              "      <td>Twilight</td>\n",
              "      <td>Young Adult|Fantasy|Romance|Paranormal|Vampire...</td>\n",
              "      <td>https://images.gr-assets.com/books/1361039443l...</td>\n",
              "    </tr>\n",
              "  </tbody>\n",
              "</table>\n",
              "</div>"
            ],
            "text/plain": [
              "                                        book_authors  ...                                          image_url\n",
              "0                                    Suzanne Collins  ...  https://images.gr-assets.com/books/1447303603l...\n",
              "1                         J.K. Rowling|Mary GrandPré  ...  https://images.gr-assets.com/books/1255614970l...\n",
              "2                                         Harper Lee  ...  https://images.gr-assets.com/books/1361975680l...\n",
              "3  Jane Austen|Anna Quindlen|Mrs. Oliphant|George...  ...  https://images.gr-assets.com/books/1320399351l...\n",
              "4                                    Stephenie Meyer  ...  https://images.gr-assets.com/books/1361039443l...\n",
              "\n",
              "[5 rows x 12 columns]"
            ]
          },
          "metadata": {
            "tags": []
          },
          "execution_count": 9
        }
      ]
    },
    {
      "cell_type": "code",
      "metadata": {
        "colab": {
          "base_uri": "https://localhost:8080/"
        },
        "id": "G_KfA-XfGHN4",
        "outputId": "1d4effa7-80f6-4230-e2e6-8d72aa385634"
      },
      "source": [
        "df.info()"
      ],
      "execution_count": 10,
      "outputs": [
        {
          "output_type": "stream",
          "text": [
            "<class 'pandas.core.frame.DataFrame'>\n",
            "RangeIndex: 54301 entries, 0 to 54300\n",
            "Data columns (total 12 columns):\n",
            " #   Column             Non-Null Count  Dtype  \n",
            "---  ------             --------------  -----  \n",
            " 0   book_authors       54301 non-null  object \n",
            " 1   book_desc          52970 non-null  object \n",
            " 2   book_edition       5453 non-null   object \n",
            " 3   book_format        52645 non-null  object \n",
            " 4   book_isbn          41435 non-null  object \n",
            " 5   book_pages         51779 non-null  object \n",
            " 6   book_rating        54301 non-null  float64\n",
            " 7   book_rating_count  54301 non-null  int64  \n",
            " 8   book_review_count  54301 non-null  int64  \n",
            " 9   book_title         54301 non-null  object \n",
            " 10  genres             51059 non-null  object \n",
            " 11  image_url          53618 non-null  object \n",
            "dtypes: float64(1), int64(2), object(9)\n",
            "memory usage: 5.0+ MB\n"
          ],
          "name": "stdout"
        }
      ]
    },
    {
      "cell_type": "code",
      "metadata": {
        "id": "DMd36qz2GHN6"
      },
      "source": [
        "data = df.copy()"
      ],
      "execution_count": 6,
      "outputs": []
    },
    {
      "cell_type": "code",
      "metadata": {
        "id": "zgA8HeSuGHN6"
      },
      "source": [
        "data.drop(['image_url','book_format','book_edition','book_isbn'],axis=1,inplace=True)"
      ],
      "execution_count": 7,
      "outputs": []
    },
    {
      "cell_type": "code",
      "metadata": {
        "id": "QpAi-f5_GHN7"
      },
      "source": [
        "data.book_authors = data.book_authors.apply(lambda x : \" \".join([i for i in x.split('|')]))"
      ],
      "execution_count": 8,
      "outputs": []
    },
    {
      "cell_type": "code",
      "metadata": {
        "id": "-5l_KHUlGHN7"
      },
      "source": [
        "data['book_desc'] = data['book_desc'].fillna('')\n",
        "data['genres'] = data['genres'].fillna('')"
      ],
      "execution_count": 10,
      "outputs": []
    },
    {
      "cell_type": "code",
      "metadata": {
        "colab": {
          "base_uri": "https://localhost:8080/"
        },
        "id": "f4PxuGu5GHN8",
        "outputId": "4ce64aef-936d-484a-88e4-1ff96acc20d0"
      },
      "source": [
        "data.isnull().sum()"
      ],
      "execution_count": 11,
      "outputs": [
        {
          "output_type": "execute_result",
          "data": {
            "text/plain": [
              "book_authors            0\n",
              "book_desc               0\n",
              "book_pages           2522\n",
              "book_rating             0\n",
              "book_rating_count       0\n",
              "book_review_count       0\n",
              "book_title              0\n",
              "genres                  0\n",
              "dtype: int64"
            ]
          },
          "metadata": {
            "tags": []
          },
          "execution_count": 11
        }
      ]
    },
    {
      "cell_type": "code",
      "metadata": {
        "id": "mHSvpD6KGHN9"
      },
      "source": [
        "data.genres = data.genres.apply(lambda x : \" \".join([i for i in x.split('|')]))"
      ],
      "execution_count": 12,
      "outputs": []
    },
    {
      "cell_type": "code",
      "metadata": {
        "colab": {
          "base_uri": "https://localhost:8080/",
          "height": 357
        },
        "id": "KUNEVFPPGHN9",
        "outputId": "b77a0be5-d1ae-4f39-e8a8-28e72817a724"
      },
      "source": [
        "data.head()"
      ],
      "execution_count": 13,
      "outputs": [
        {
          "output_type": "execute_result",
          "data": {
            "text/html": [
              "<div>\n",
              "<style scoped>\n",
              "    .dataframe tbody tr th:only-of-type {\n",
              "        vertical-align: middle;\n",
              "    }\n",
              "\n",
              "    .dataframe tbody tr th {\n",
              "        vertical-align: top;\n",
              "    }\n",
              "\n",
              "    .dataframe thead th {\n",
              "        text-align: right;\n",
              "    }\n",
              "</style>\n",
              "<table border=\"1\" class=\"dataframe\">\n",
              "  <thead>\n",
              "    <tr style=\"text-align: right;\">\n",
              "      <th></th>\n",
              "      <th>book_authors</th>\n",
              "      <th>book_desc</th>\n",
              "      <th>book_pages</th>\n",
              "      <th>book_rating</th>\n",
              "      <th>book_rating_count</th>\n",
              "      <th>book_review_count</th>\n",
              "      <th>book_title</th>\n",
              "      <th>genres</th>\n",
              "    </tr>\n",
              "  </thead>\n",
              "  <tbody>\n",
              "    <tr>\n",
              "      <th>0</th>\n",
              "      <td>Suzanne Collins</td>\n",
              "      <td>Winning will make you famous. Losing means cer...</td>\n",
              "      <td>374 pages</td>\n",
              "      <td>4.33</td>\n",
              "      <td>5519135</td>\n",
              "      <td>160706</td>\n",
              "      <td>The Hunger Games</td>\n",
              "      <td>Young Adult Fiction Science Fiction Dystopia F...</td>\n",
              "    </tr>\n",
              "    <tr>\n",
              "      <th>1</th>\n",
              "      <td>J.K. Rowling Mary GrandPré</td>\n",
              "      <td>There is a door at the end of a silent corrido...</td>\n",
              "      <td>870 pages</td>\n",
              "      <td>4.48</td>\n",
              "      <td>2041594</td>\n",
              "      <td>33264</td>\n",
              "      <td>Harry Potter and the Order of the Phoenix</td>\n",
              "      <td>Fantasy Young Adult Fiction</td>\n",
              "    </tr>\n",
              "    <tr>\n",
              "      <th>2</th>\n",
              "      <td>Harper Lee</td>\n",
              "      <td>The unforgettable novel of a childhood in a sl...</td>\n",
              "      <td>324 pages</td>\n",
              "      <td>4.27</td>\n",
              "      <td>3745197</td>\n",
              "      <td>79450</td>\n",
              "      <td>To Kill a Mockingbird</td>\n",
              "      <td>Classics Fiction Historical Historical Fiction...</td>\n",
              "    </tr>\n",
              "    <tr>\n",
              "      <th>3</th>\n",
              "      <td>Jane Austen Anna Quindlen Mrs. Oliphant George...</td>\n",
              "      <td>«È cosa ormai risaputa che a uno scapolo in po...</td>\n",
              "      <td>279 pages</td>\n",
              "      <td>4.25</td>\n",
              "      <td>2453620</td>\n",
              "      <td>54322</td>\n",
              "      <td>Pride and Prejudice</td>\n",
              "      <td>Classics Fiction Romance</td>\n",
              "    </tr>\n",
              "    <tr>\n",
              "      <th>4</th>\n",
              "      <td>Stephenie Meyer</td>\n",
              "      <td>About three things I was absolutely positive.F...</td>\n",
              "      <td>498 pages</td>\n",
              "      <td>3.58</td>\n",
              "      <td>4281268</td>\n",
              "      <td>97991</td>\n",
              "      <td>Twilight</td>\n",
              "      <td>Young Adult Fantasy Romance Paranormal Vampire...</td>\n",
              "    </tr>\n",
              "  </tbody>\n",
              "</table>\n",
              "</div>"
            ],
            "text/plain": [
              "                                        book_authors  ...                                             genres\n",
              "0                                    Suzanne Collins  ...  Young Adult Fiction Science Fiction Dystopia F...\n",
              "1                         J.K. Rowling Mary GrandPré  ...                        Fantasy Young Adult Fiction\n",
              "2                                         Harper Lee  ...  Classics Fiction Historical Historical Fiction...\n",
              "3  Jane Austen Anna Quindlen Mrs. Oliphant George...  ...                           Classics Fiction Romance\n",
              "4                                    Stephenie Meyer  ...  Young Adult Fantasy Romance Paranormal Vampire...\n",
              "\n",
              "[5 rows x 8 columns]"
            ]
          },
          "metadata": {
            "tags": []
          },
          "execution_count": 13
        }
      ]
    },
    {
      "cell_type": "code",
      "metadata": {
        "id": "HECDfUjBGHN-"
      },
      "source": [
        "data['text_data'] = data['book_authors']  + \" \" + data['book_desc'] + data['genres'] "
      ],
      "execution_count": 14,
      "outputs": []
    },
    {
      "cell_type": "code",
      "metadata": {
        "colab": {
          "base_uri": "https://localhost:8080/",
          "height": 163
        },
        "id": "9UUhLf_aGHN-",
        "outputId": "43143a4c-9127-4e83-bbe4-de2457c5fad7"
      },
      "source": [
        "new_data = data.drop(['book_authors','book_authors','book_desc','genres'],axis=1)"
      ],
      "execution_count": 11,
      "outputs": [
        {
          "output_type": "error",
          "ename": "NameError",
          "evalue": "ignored",
          "traceback": [
            "\u001b[0;31m---------------------------------------------------------------------------\u001b[0m",
            "\u001b[0;31mNameError\u001b[0m                                 Traceback (most recent call last)",
            "\u001b[0;32m<ipython-input-11-74094192dcf5>\u001b[0m in \u001b[0;36m<module>\u001b[0;34m()\u001b[0m\n\u001b[0;32m----> 1\u001b[0;31m \u001b[0mnew_data\u001b[0m \u001b[0;34m=\u001b[0m \u001b[0mdata\u001b[0m\u001b[0;34m.\u001b[0m\u001b[0mdrop\u001b[0m\u001b[0;34m(\u001b[0m\u001b[0;34m[\u001b[0m\u001b[0;34m'book_authors'\u001b[0m\u001b[0;34m,\u001b[0m\u001b[0;34m'book_authors'\u001b[0m\u001b[0;34m,\u001b[0m\u001b[0;34m'book_desc'\u001b[0m\u001b[0;34m,\u001b[0m\u001b[0;34m'genres'\u001b[0m\u001b[0;34m]\u001b[0m\u001b[0;34m,\u001b[0m\u001b[0maxis\u001b[0m\u001b[0;34m=\u001b[0m\u001b[0;36m1\u001b[0m\u001b[0;34m)\u001b[0m\u001b[0;34m\u001b[0m\u001b[0;34m\u001b[0m\u001b[0m\n\u001b[0m",
            "\u001b[0;31mNameError\u001b[0m: name 'data' is not defined"
          ]
        }
      ]
    },
    {
      "cell_type": "code",
      "metadata": {
        "colab": {
          "base_uri": "https://localhost:8080/",
          "height": 306
        },
        "id": "RCUS6mJ_GHN-",
        "outputId": "10823a75-2c03-46c5-9c2a-6eb45b905406"
      },
      "source": [
        "new_data.head()"
      ],
      "execution_count": 12,
      "outputs": [
        {
          "output_type": "execute_result",
          "data": {
            "text/html": [
              "<div>\n",
              "<style scoped>\n",
              "    .dataframe tbody tr th:only-of-type {\n",
              "        vertical-align: middle;\n",
              "    }\n",
              "\n",
              "    .dataframe tbody tr th {\n",
              "        vertical-align: top;\n",
              "    }\n",
              "\n",
              "    .dataframe thead th {\n",
              "        text-align: right;\n",
              "    }\n",
              "</style>\n",
              "<table border=\"1\" class=\"dataframe\">\n",
              "  <thead>\n",
              "    <tr style=\"text-align: right;\">\n",
              "      <th></th>\n",
              "      <th>Unnamed: 0</th>\n",
              "      <th>book_pages</th>\n",
              "      <th>book_rating</th>\n",
              "      <th>book_rating_count</th>\n",
              "      <th>book_review_count</th>\n",
              "      <th>book_title</th>\n",
              "      <th>text_data</th>\n",
              "      <th>clean_data</th>\n",
              "    </tr>\n",
              "  </thead>\n",
              "  <tbody>\n",
              "    <tr>\n",
              "      <th>0</th>\n",
              "      <td>0</td>\n",
              "      <td>374 pages</td>\n",
              "      <td>4.33</td>\n",
              "      <td>5519135</td>\n",
              "      <td>160706</td>\n",
              "      <td>The Hunger Games</td>\n",
              "      <td>Suzanne Collins Winning will make you famous. ...</td>\n",
              "      <td>uzanne collins win make famous lose mean certa...</td>\n",
              "    </tr>\n",
              "    <tr>\n",
              "      <th>1</th>\n",
              "      <td>1</td>\n",
              "      <td>870 pages</td>\n",
              "      <td>4.48</td>\n",
              "      <td>2041594</td>\n",
              "      <td>33264</td>\n",
              "      <td>Harry Potter and the Order of the Phoenix</td>\n",
              "      <td>J.K. Rowling Mary GrandPré There is a door at ...</td>\n",
              "      <td>k rowling mary grandpré door end silent corrid...</td>\n",
              "    </tr>\n",
              "    <tr>\n",
              "      <th>2</th>\n",
              "      <td>2</td>\n",
              "      <td>324 pages</td>\n",
              "      <td>4.27</td>\n",
              "      <td>3745197</td>\n",
              "      <td>79450</td>\n",
              "      <td>To Kill a Mockingbird</td>\n",
              "      <td>Harper Lee The unforgettable novel of a childh...</td>\n",
              "      <td>arper lee unforgettable novel childhood sleepy...</td>\n",
              "    </tr>\n",
              "    <tr>\n",
              "      <th>3</th>\n",
              "      <td>3</td>\n",
              "      <td>279 pages</td>\n",
              "      <td>4.25</td>\n",
              "      <td>2453620</td>\n",
              "      <td>54322</td>\n",
              "      <td>Pride and Prejudice</td>\n",
              "      <td>Jane Austen Anna Quindlen Mrs. Oliphant George...</td>\n",
              "      <td>ane austen anna quindlen mrs oliphant george s...</td>\n",
              "    </tr>\n",
              "    <tr>\n",
              "      <th>4</th>\n",
              "      <td>4</td>\n",
              "      <td>498 pages</td>\n",
              "      <td>3.58</td>\n",
              "      <td>4281268</td>\n",
              "      <td>97991</td>\n",
              "      <td>Twilight</td>\n",
              "      <td>Stephenie Meyer About three things I was absol...</td>\n",
              "      <td>tephenie meyer three thing absolutely positive...</td>\n",
              "    </tr>\n",
              "  </tbody>\n",
              "</table>\n",
              "</div>"
            ],
            "text/plain": [
              "   Unnamed: 0  ...                                         clean_data\n",
              "0           0  ...  uzanne collins win make famous lose mean certa...\n",
              "1           1  ...  k rowling mary grandpré door end silent corrid...\n",
              "2           2  ...  arper lee unforgettable novel childhood sleepy...\n",
              "3           3  ...  ane austen anna quindlen mrs oliphant george s...\n",
              "4           4  ...  tephenie meyer three thing absolutely positive...\n",
              "\n",
              "[5 rows x 8 columns]"
            ]
          },
          "metadata": {
            "tags": []
          },
          "execution_count": 12
        }
      ]
    },
    {
      "cell_type": "code",
      "metadata": {
        "colab": {
          "base_uri": "https://localhost:8080/"
        },
        "id": "Hc62vpeMHl0T",
        "outputId": "046f6eb5-fad4-4688-f128-06323664312d"
      },
      "source": [
        "nltk.download('stopwords')"
      ],
      "execution_count": 13,
      "outputs": [
        {
          "output_type": "stream",
          "text": [
            "[nltk_data] Downloading package stopwords to /root/nltk_data...\n",
            "[nltk_data]   Package stopwords is already up-to-date!\n"
          ],
          "name": "stdout"
        },
        {
          "output_type": "execute_result",
          "data": {
            "text/plain": [
              "True"
            ]
          },
          "metadata": {
            "tags": []
          },
          "execution_count": 13
        }
      ]
    },
    {
      "cell_type": "code",
      "metadata": {
        "colab": {
          "base_uri": "https://localhost:8080/"
        },
        "id": "EPMLAgQSHszF",
        "outputId": "f15fffe9-57f3-42a8-a3fa-adce7187a187"
      },
      "source": [
        "nltk.download('averaged_perceptron_tagger')"
      ],
      "execution_count": 14,
      "outputs": [
        {
          "output_type": "stream",
          "text": [
            "[nltk_data] Downloading package averaged_perceptron_tagger to\n",
            "[nltk_data]     /root/nltk_data...\n",
            "[nltk_data]   Package averaged_perceptron_tagger is already up-to-\n",
            "[nltk_data]       date!\n"
          ],
          "name": "stdout"
        },
        {
          "output_type": "execute_result",
          "data": {
            "text/plain": [
              "True"
            ]
          },
          "metadata": {
            "tags": []
          },
          "execution_count": 14
        }
      ]
    },
    {
      "cell_type": "code",
      "metadata": {
        "colab": {
          "base_uri": "https://localhost:8080/"
        },
        "id": "pXvn3OpYHz99",
        "outputId": "1432545e-0ee6-47d3-ff11-b0b128739bb4"
      },
      "source": [
        "nltk.download('wordnet')"
      ],
      "execution_count": 15,
      "outputs": [
        {
          "output_type": "stream",
          "text": [
            "[nltk_data] Downloading package wordnet to /root/nltk_data...\n",
            "[nltk_data]   Package wordnet is already up-to-date!\n"
          ],
          "name": "stdout"
        },
        {
          "output_type": "execute_result",
          "data": {
            "text/plain": [
              "True"
            ]
          },
          "metadata": {
            "tags": []
          },
          "execution_count": 15
        }
      ]
    },
    {
      "cell_type": "code",
      "metadata": {
        "id": "PiOHyD5CGHOA"
      },
      "source": [
        "def get_wordnet_pos(word):\n",
        "\n",
        "    \n",
        "    tag = nltk.pos_tag([word])[0][1][0].upper()\n",
        "    tag_dict = {\"J\": wordnet.ADJ,\n",
        "                \"N\": wordnet.NOUN,\n",
        "                \"V\": wordnet.VERB,\n",
        "                \"R\": wordnet.ADV}\n",
        "\n",
        "    return tag_dict.get(tag, wordnet.NOUN) "
      ],
      "execution_count": 20,
      "outputs": []
    },
    {
      "cell_type": "code",
      "metadata": {
        "id": "VhKsEW3XGHOA"
      },
      "source": [
        "lemma = WordNetLemmatizer()\n",
        "stopword = stopwords.words('english')\n",
        "ps = PorterStemmer()\n"
      ],
      "execution_count": 16,
      "outputs": []
    },
    {
      "cell_type": "code",
      "metadata": {
        "id": "B6s4UMP-GHOD"
      },
      "source": [
        "def clean_text(i):\n",
        "    i = i.lower()\n",
        "    i = re.sub(r'^[a-z0-9]','',i)\n",
        "    i = \" \".join([lemma.lemmatize(i,get_wordnet_pos(i)) for i in i.split() if i not in stopword])\n",
        "    return i "
      ],
      "execution_count": 17,
      "outputs": []
    },
    {
      "cell_type": "code",
      "metadata": {
        "id": "Ndqvl3CqGHOE"
      },
      "source": [
        "new_data['clean_data'] = new_data['text_data'].apply(lambda x : clean_text(x))"
      ],
      "execution_count": 24,
      "outputs": []
    },
    {
      "cell_type": "code",
      "metadata": {
        "id": "HLHsPf7OGHOF"
      },
      "source": [
        "new_data.clean_data = new_data.clean_data.apply(lambda x : \"\".join([i for i in x if i not in string.punctuation]) )"
      ],
      "execution_count": 27,
      "outputs": []
    },
    {
      "cell_type": "code",
      "metadata": {
        "colab": {
          "base_uri": "https://localhost:8080/",
          "height": 163
        },
        "id": "zzKMtvjbYEkA",
        "outputId": "3910af30-ba11-4ab5-a0ab-2d88f64c0f4f"
      },
      "source": [
        "new_data.to_csv('book_data_clean_text.csv')"
      ],
      "execution_count": 5,
      "outputs": [
        {
          "output_type": "error",
          "ename": "NameError",
          "evalue": "ignored",
          "traceback": [
            "\u001b[0;31m---------------------------------------------------------------------------\u001b[0m",
            "\u001b[0;31mNameError\u001b[0m                                 Traceback (most recent call last)",
            "\u001b[0;32m<ipython-input-5-4cfdeff77289>\u001b[0m in \u001b[0;36m<module>\u001b[0;34m()\u001b[0m\n\u001b[0;32m----> 1\u001b[0;31m \u001b[0mnew_data\u001b[0m\u001b[0;34m.\u001b[0m\u001b[0mto_csv\u001b[0m\u001b[0;34m(\u001b[0m\u001b[0;34m'book_data_clean_text.csv'\u001b[0m\u001b[0;34m)\u001b[0m\u001b[0;34m\u001b[0m\u001b[0;34m\u001b[0m\u001b[0m\n\u001b[0m",
            "\u001b[0;31mNameError\u001b[0m: name 'new_data' is not defined"
          ]
        }
      ]
    },
    {
      "cell_type": "code",
      "metadata": {
        "id": "u31OCXoYuSxa"
      },
      "source": [
        "new_data = pd.read_csv('/content/drive/MyDrive/datasets/book_data_clean_text.csv')"
      ],
      "execution_count": 3,
      "outputs": []
    },
    {
      "cell_type": "code",
      "metadata": {
        "colab": {
          "base_uri": "https://localhost:8080/",
          "height": 442
        },
        "id": "qgdfIPmNGHOF",
        "outputId": "bb6753c9-a0ae-4fde-e3dc-964653381bf6"
      },
      "source": [
        "new_data.head()"
      ],
      "execution_count": 4,
      "outputs": [
        {
          "output_type": "execute_result",
          "data": {
            "text/html": [
              "<div>\n",
              "<style scoped>\n",
              "    .dataframe tbody tr th:only-of-type {\n",
              "        vertical-align: middle;\n",
              "    }\n",
              "\n",
              "    .dataframe tbody tr th {\n",
              "        vertical-align: top;\n",
              "    }\n",
              "\n",
              "    .dataframe thead th {\n",
              "        text-align: right;\n",
              "    }\n",
              "</style>\n",
              "<table border=\"1\" class=\"dataframe\">\n",
              "  <thead>\n",
              "    <tr style=\"text-align: right;\">\n",
              "      <th></th>\n",
              "      <th>Unnamed: 0</th>\n",
              "      <th>book_pages</th>\n",
              "      <th>book_rating</th>\n",
              "      <th>book_rating_count</th>\n",
              "      <th>book_review_count</th>\n",
              "      <th>book_title</th>\n",
              "      <th>text_data</th>\n",
              "      <th>clean_data</th>\n",
              "    </tr>\n",
              "  </thead>\n",
              "  <tbody>\n",
              "    <tr>\n",
              "      <th>0</th>\n",
              "      <td>0</td>\n",
              "      <td>374 pages</td>\n",
              "      <td>4.33</td>\n",
              "      <td>5519135</td>\n",
              "      <td>160706</td>\n",
              "      <td>The Hunger Games</td>\n",
              "      <td>Suzanne Collins Winning will make you famous. ...</td>\n",
              "      <td>uzanne collins win make famous lose mean certa...</td>\n",
              "    </tr>\n",
              "    <tr>\n",
              "      <th>1</th>\n",
              "      <td>1</td>\n",
              "      <td>870 pages</td>\n",
              "      <td>4.48</td>\n",
              "      <td>2041594</td>\n",
              "      <td>33264</td>\n",
              "      <td>Harry Potter and the Order of the Phoenix</td>\n",
              "      <td>J.K. Rowling Mary GrandPré There is a door at ...</td>\n",
              "      <td>k rowling mary grandpré door end silent corrid...</td>\n",
              "    </tr>\n",
              "    <tr>\n",
              "      <th>2</th>\n",
              "      <td>2</td>\n",
              "      <td>324 pages</td>\n",
              "      <td>4.27</td>\n",
              "      <td>3745197</td>\n",
              "      <td>79450</td>\n",
              "      <td>To Kill a Mockingbird</td>\n",
              "      <td>Harper Lee The unforgettable novel of a childh...</td>\n",
              "      <td>arper lee unforgettable novel childhood sleepy...</td>\n",
              "    </tr>\n",
              "    <tr>\n",
              "      <th>3</th>\n",
              "      <td>3</td>\n",
              "      <td>279 pages</td>\n",
              "      <td>4.25</td>\n",
              "      <td>2453620</td>\n",
              "      <td>54322</td>\n",
              "      <td>Pride and Prejudice</td>\n",
              "      <td>Jane Austen Anna Quindlen Mrs. Oliphant George...</td>\n",
              "      <td>ane austen anna quindlen mrs oliphant george s...</td>\n",
              "    </tr>\n",
              "    <tr>\n",
              "      <th>4</th>\n",
              "      <td>4</td>\n",
              "      <td>498 pages</td>\n",
              "      <td>3.58</td>\n",
              "      <td>4281268</td>\n",
              "      <td>97991</td>\n",
              "      <td>Twilight</td>\n",
              "      <td>Stephenie Meyer About three things I was absol...</td>\n",
              "      <td>tephenie meyer three thing absolutely positive...</td>\n",
              "    </tr>\n",
              "  </tbody>\n",
              "</table>\n",
              "</div>"
            ],
            "text/plain": [
              "   Unnamed: 0  ...                                         clean_data\n",
              "0           0  ...  uzanne collins win make famous lose mean certa...\n",
              "1           1  ...  k rowling mary grandpré door end silent corrid...\n",
              "2           2  ...  arper lee unforgettable novel childhood sleepy...\n",
              "3           3  ...  ane austen anna quindlen mrs oliphant george s...\n",
              "4           4  ...  tephenie meyer three thing absolutely positive...\n",
              "\n",
              "[5 rows x 8 columns]"
            ]
          },
          "metadata": {
            "tags": []
          },
          "execution_count": 4
        }
      ]
    },
    {
      "cell_type": "code",
      "metadata": {
        "id": "WGSg9ZKt6zdB"
      },
      "source": [
        "new_data = new_data.drop_duplicates(subset='book_title', keep=\"first\")"
      ],
      "execution_count": 5,
      "outputs": []
    },
    {
      "cell_type": "code",
      "metadata": {
        "id": "OjdIKnUf-3Qn"
      },
      "source": [
        "new_data['book_pages'] = new_data['book_pages'].fillna('500 pages')"
      ],
      "execution_count": 6,
      "outputs": []
    },
    {
      "cell_type": "code",
      "metadata": {
        "id": "4YTzccAT-slB"
      },
      "source": [
        "new_data['book_pages'] = new_data.book_pages.apply(lambda x : int(x.split()[0]))"
      ],
      "execution_count": 7,
      "outputs": []
    },
    {
      "cell_type": "code",
      "metadata": {
        "id": "UUDdvEZTz0iQ"
      },
      "source": [
        "new_data_1 = new_data[ (new_data.book_rating > 4.0) & (new_data.book_pages > 200) ]"
      ],
      "execution_count": 8,
      "outputs": []
    },
    {
      "cell_type": "code",
      "metadata": {
        "id": "3GdEs8ma_7UR"
      },
      "source": [
        "new_data_1.to_csv('book_data_rating_pages.csv')"
      ],
      "execution_count": 9,
      "outputs": []
    },
    {
      "cell_type": "code",
      "metadata": {
        "id": "TJO3Y3Q9AQ2t"
      },
      "source": [
        "new_data = pd.read_csv('/content/book_data_rating_pages.csv')"
      ],
      "execution_count": 10,
      "outputs": []
    },
    {
      "cell_type": "code",
      "metadata": {
        "colab": {
          "base_uri": "https://localhost:8080/"
        },
        "id": "LhzD--5I1DOA",
        "outputId": "21333ef2-cbea-4149-90a0-333f4f875044"
      },
      "source": [
        "new_data_1.shape"
      ],
      "execution_count": 11,
      "outputs": [
        {
          "output_type": "execute_result",
          "data": {
            "text/plain": [
              "(19948, 8)"
            ]
          },
          "metadata": {
            "tags": []
          },
          "execution_count": 11
        }
      ]
    },
    {
      "cell_type": "code",
      "metadata": {
        "id": "ZcU8CQDRUJ-d"
      },
      "source": [
        "corpus = list(new_data.clean_data)"
      ],
      "execution_count": 12,
      "outputs": []
    },
    {
      "cell_type": "code",
      "metadata": {
        "id": "dIJaws_gVuld"
      },
      "source": [
        "\n",
        "dets = new_data[['book_title','clean_data']]"
      ],
      "execution_count": 13,
      "outputs": []
    },
    {
      "cell_type": "code",
      "metadata": {
        "id": "hv7iCKXQVtr6"
      },
      "source": [
        "tfidf = TfidfVectorizer()\n",
        "Cv = CountVectorizer()\n",
        "ncorpus = tfidf.fit_transform(corpus)"
      ],
      "execution_count": 14,
      "outputs": []
    },
    {
      "cell_type": "code",
      "metadata": {
        "id": "I50DM3OVWW0V"
      },
      "source": [
        "cosine_similarities = cosine_similarity(ncorpus)\n"
      ],
      "execution_count": 15,
      "outputs": []
    },
    {
      "cell_type": "code",
      "metadata": {
        "colab": {
          "base_uri": "https://localhost:8080/"
        },
        "id": "ouN41RBb2-oJ",
        "outputId": "4cb0b400-a17c-4495-9b65-b612bc2f2707"
      },
      "source": [
        "names = dets.book_title.tolist()\n",
        "names[:5]"
      ],
      "execution_count": 16,
      "outputs": [
        {
          "output_type": "execute_result",
          "data": {
            "text/plain": [
              "['The Hunger Games',\n",
              " 'Harry Potter and the Order of the Phoenix',\n",
              " 'To Kill a Mockingbird',\n",
              " 'Pride and Prejudice',\n",
              " 'The Book Thief']"
            ]
          },
          "metadata": {
            "tags": []
          },
          "execution_count": 16
        }
      ]
    },
    {
      "cell_type": "code",
      "metadata": {
        "id": "i8hcU9944wnh"
      },
      "source": [
        "# values = []\n",
        "# for i in cosine_similarities:\n",
        "#   val = []\n",
        "#   for n , j in enumerate(i) :\n",
        "#     val.append((n,j))\n",
        "#   values.append(val)"
      ],
      "execution_count": null,
      "outputs": []
    },
    {
      "cell_type": "code",
      "metadata": {
        "id": "3fwHZWQV4L9S"
      },
      "source": [
        "def get_recom_cosin(title,func=cosine_similarities):\n",
        "  idx = names.index('The Hunger Games')\n",
        "  similar = cosine_similarities[idx]\n",
        "  values= []\n",
        "  for n,i in enumerate(similar):\n",
        "    values.append((n,i))\n",
        "  #values= list(enumerate(similar))\n",
        "  scores = sorted(values,key = lambda x : x[1],reverse=True)\n",
        "  scores = scores[1:11]\n",
        "  idxs = [i[0] for i in scores]\n",
        "  return  new_data.iloc[idxs]"
      ],
      "execution_count": 17,
      "outputs": []
    },
    {
      "cell_type": "code",
      "metadata": {
        "colab": {
          "base_uri": "https://localhost:8080/"
        },
        "id": "9cTvMsHr-dK6",
        "outputId": "cfcf83ab-e79e-453c-a7f8-eae32377070c"
      },
      "source": [
        "new_data.iloc[40]"
      ],
      "execution_count": 18,
      "outputs": [
        {
          "output_type": "execute_result",
          "data": {
            "text/plain": [
              "Unnamed: 0                                                          70\n",
              "Unnamed: 0.1                                                        70\n",
              "book_pages                                                         850\n",
              "book_rating                                                       4.22\n",
              "book_rating_count                                               668422\n",
              "book_review_count                                                40168\n",
              "book_title                                                   Outlander\n",
              "text_data            Diana Gabaldon The year is 1945. Claire Randal...\n",
              "clean_data           iana gabaldon year 1945 claire randall former ...\n",
              "Name: 40, dtype: object"
            ]
          },
          "metadata": {
            "tags": []
          },
          "execution_count": 18
        }
      ]
    },
    {
      "cell_type": "code",
      "metadata": {
        "colab": {
          "base_uri": "https://localhost:8080/",
          "height": 376
        },
        "id": "HSEi_6Io4L7W",
        "outputId": "b55c7163-808b-4dd9-9223-b143d539e0b9"
      },
      "source": [
        "name = input(\"Enter book title : \")\n",
        "data = get_recom_cosin(name)\n",
        "data[['book_pages','book_title','book_rating']]\n"
      ],
      "execution_count": 19,
      "outputs": [
        {
          "output_type": "stream",
          "text": [
            "Enter book title : The Stand\n"
          ],
          "name": "stdout"
        },
        {
          "output_type": "execute_result",
          "data": {
            "text/html": [
              "<div>\n",
              "<style scoped>\n",
              "    .dataframe tbody tr th:only-of-type {\n",
              "        vertical-align: middle;\n",
              "    }\n",
              "\n",
              "    .dataframe tbody tr th {\n",
              "        vertical-align: top;\n",
              "    }\n",
              "\n",
              "    .dataframe thead th {\n",
              "        text-align: right;\n",
              "    }\n",
              "</style>\n",
              "<table border=\"1\" class=\"dataframe\">\n",
              "  <thead>\n",
              "    <tr style=\"text-align: right;\">\n",
              "      <th></th>\n",
              "      <th>book_pages</th>\n",
              "      <th>book_title</th>\n",
              "      <th>book_rating</th>\n",
              "    </tr>\n",
              "  </thead>\n",
              "  <tbody>\n",
              "    <tr>\n",
              "      <th>143</th>\n",
              "      <td>391</td>\n",
              "      <td>Catching Fire</td>\n",
              "      <td>4.29</td>\n",
              "    </tr>\n",
              "    <tr>\n",
              "      <th>203</th>\n",
              "      <td>392</td>\n",
              "      <td>Mockingjay</td>\n",
              "      <td>4.03</td>\n",
              "    </tr>\n",
              "    <tr>\n",
              "      <th>12169</th>\n",
              "      <td>424</td>\n",
              "      <td>Catching Fire - Tersulut</td>\n",
              "      <td>4.29</td>\n",
              "    </tr>\n",
              "    <tr>\n",
              "      <th>12266</th>\n",
              "      <td>400</td>\n",
              "      <td>L'Embrasement</td>\n",
              "      <td>4.29</td>\n",
              "    </tr>\n",
              "    <tr>\n",
              "      <th>9301</th>\n",
              "      <td>339</td>\n",
              "      <td>De Hongerspelen</td>\n",
              "      <td>4.33</td>\n",
              "    </tr>\n",
              "    <tr>\n",
              "      <th>17062</th>\n",
              "      <td>407</td>\n",
              "      <td>En llamas</td>\n",
              "      <td>4.29</td>\n",
              "    </tr>\n",
              "    <tr>\n",
              "      <th>10158</th>\n",
              "      <td>351</td>\n",
              "      <td>Vlammen</td>\n",
              "      <td>4.29</td>\n",
              "    </tr>\n",
              "    <tr>\n",
              "      <th>9364</th>\n",
              "      <td>369</td>\n",
              "      <td>Hunger Games</td>\n",
              "      <td>4.33</td>\n",
              "    </tr>\n",
              "    <tr>\n",
              "      <th>107</th>\n",
              "      <td>1155</td>\n",
              "      <td>The Hunger Games Trilogy Boxset</td>\n",
              "      <td>4.48</td>\n",
              "    </tr>\n",
              "    <tr>\n",
              "      <th>3721</th>\n",
              "      <td>304</td>\n",
              "      <td>Escape from Mr. Lemoncello's Library</td>\n",
              "      <td>4.13</td>\n",
              "    </tr>\n",
              "  </tbody>\n",
              "</table>\n",
              "</div>"
            ],
            "text/plain": [
              "       book_pages                            book_title  book_rating\n",
              "143           391                         Catching Fire         4.29\n",
              "203           392                            Mockingjay         4.03\n",
              "12169         424              Catching Fire - Tersulut         4.29\n",
              "12266         400                         L'Embrasement         4.29\n",
              "9301          339                       De Hongerspelen         4.33\n",
              "17062         407                             En llamas         4.29\n",
              "10158         351                               Vlammen         4.29\n",
              "9364          369                          Hunger Games         4.33\n",
              "107          1155       The Hunger Games Trilogy Boxset         4.48\n",
              "3721          304  Escape from Mr. Lemoncello's Library         4.13"
            ]
          },
          "metadata": {
            "tags": []
          },
          "execution_count": 19
        }
      ]
    },
    {
      "cell_type": "code",
      "metadata": {
        "id": "JN_lhw2r4L46"
      },
      "source": [
        ""
      ],
      "execution_count": null,
      "outputs": []
    },
    {
      "cell_type": "code",
      "metadata": {
        "id": "l9rSfTcIXImA"
      },
      "source": [
        "sigmoid_similarities = sigmoid_kernel(ncorpus)"
      ],
      "execution_count": null,
      "outputs": []
    }
  ]
}